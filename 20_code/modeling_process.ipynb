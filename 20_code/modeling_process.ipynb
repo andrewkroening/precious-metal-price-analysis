{
 "cells": [
  {
   "attachments": {},
   "cell_type": "markdown",
   "metadata": {},
   "source": [
    "# Modeling Process\n",
    "\n",
    "#### June 2023"
   ]
  },
  {
   "attachments": {},
   "cell_type": "markdown",
   "metadata": {},
   "source": [
    "### Imports and set-up"
   ]
  },
  {
   "cell_type": "code",
   "execution_count": 2,
   "metadata": {},
   "outputs": [],
   "source": [
    "import numpy as np\n",
    "import pandas as pd\n",
    "import matplotlib.pyplot as plt\n",
    "import altair as alt\n",
    "import statsmodels.formula.api as smf\n",
    "import time\n",
    "\n",
    "# set the baseline colors\n",
    "color0 = \"#121619\"  # Dark grey\n",
    "color1 = \"#00B050\"  # Green\n",
    "\n",
    "# improve plot resolution\n",
    "plt.rcParams[\"figure.dpi\"] = 300\n",
    "plt.rcParams[\"savefig.dpi\"] = 300\n",
    "\n",
    "# set a random seed just in case its needed\n",
    "np.random.seed(41)"
   ]
  },
  {
   "attachments": {},
   "cell_type": "markdown",
   "metadata": {},
   "source": [
    "### Import Dataset"
   ]
  },
  {
   "cell_type": "code",
   "execution_count": 3,
   "metadata": {},
   "outputs": [],
   "source": [
    "df = pd.read_csv(\"../30_intermediate_files/regression_dataset.csv\")"
   ]
  },
  {
   "attachments": {},
   "cell_type": "markdown",
   "metadata": {},
   "source": [
    "### Simple Linear Regression"
   ]
  },
  {
   "attachments": {},
   "cell_type": "markdown",
   "metadata": {},
   "source": [
    "The first relaitonship we will look at is the price of gold to the price of silver because this is our main relationship of interest. The other variables will be analyzed one at a time, and then all together. We'll start with a simple linear regression and then move on to more complex models if warranted. "
   ]
  },
  {
   "attachments": {},
   "cell_type": "markdown",
   "metadata": {},
   "source": [
    "#### Gold"
   ]
  },
  {
   "cell_type": "code",
   "execution_count": 8,
   "metadata": {},
   "outputs": [
    {
     "name": "stdout",
     "output_type": "stream",
     "text": [
      "                            OLS Regression Results                            \n",
      "==============================================================================\n",
      "Dep. Variable:                 Silver   R-squared:                       0.849\n",
      "Model:                            OLS   Adj. R-squared:                  0.849\n",
      "Method:                 Least Squares   F-statistic:                     2246.\n",
      "Date:                Sat, 17 Jun 2023   Prob (F-statistic):          5.81e-166\n",
      "Time:                        21:16:11   Log-Likelihood:                -1057.8\n",
      "No. Observations:                 401   AIC:                             2120.\n",
      "Df Residuals:                     399   BIC:                             2128.\n",
      "Df Model:                           1                                         \n",
      "Covariance Type:            nonrobust                                         \n",
      "==============================================================================\n",
      "                 coef    std err          t      P>|t|      [0.025      0.975]\n",
      "------------------------------------------------------------------------------\n",
      "Intercept      0.3067      0.311      0.985      0.325      -0.306       0.919\n",
      "Gold           0.0146      0.000     47.390      0.000       0.014       0.015\n",
      "==============================================================================\n",
      "Omnibus:                      165.869   Durbin-Watson:                   0.064\n",
      "Prob(Omnibus):                  0.000   Jarque-Bera (JB):              948.251\n",
      "Skew:                           1.675   Prob(JB):                    1.23e-206\n",
      "Kurtosis:                       9.747   Cond. No.                     1.86e+03\n",
      "==============================================================================\n",
      "\n",
      "Notes:\n",
      "[1] Standard Errors assume that the covariance matrix of the errors is correctly specified.\n",
      "[2] The condition number is large, 1.86e+03. This might indicate that there are\n",
      "strong multicollinearity or other numerical problems.\n"
     ]
    }
   ],
   "source": [
    "# fit a linear model\n",
    "lm = smf.ols(\n",
    "    formula=\"Silver ~ Gold\", data=df\n",
    ").fit()\n",
    "\n",
    "print(lm.summary())"
   ]
  },
  {
   "attachments": {},
   "cell_type": "markdown",
   "metadata": {},
   "source": [
    ">*This regression summary tells us that the price of Gold accounts for roughly 85% of the variablility in the price of silver. This is a very strong relationship. Additionally, the confidence interval for the slope is very narrow and does not encompass zero. This means that we can be very confident that the slope is not zero. and that there is a measurable effect. From the table above, a dollar change in the price of Gold is associated with a 0.0146 dollar change in the price of silver. Roughly a 70:1 ratio.*"
   ]
  },
  {
   "attachments": {},
   "cell_type": "markdown",
   "metadata": {},
   "source": [
    "#### Aluminum"
   ]
  },
  {
   "cell_type": "code",
   "execution_count": 9,
   "metadata": {},
   "outputs": [
    {
     "name": "stdout",
     "output_type": "stream",
     "text": [
      "                            OLS Regression Results                            \n",
      "==============================================================================\n",
      "Dep. Variable:                 Silver   R-squared:                       0.400\n",
      "Model:                            OLS   Adj. R-squared:                  0.398\n",
      "Method:                 Least Squares   F-statistic:                     265.8\n",
      "Date:                Sat, 17 Jun 2023   Prob (F-statistic):           3.67e-46\n",
      "Time:                        21:21:11   Log-Likelihood:                -1334.6\n",
      "No. Observations:                 401   AIC:                             2673.\n",
      "Df Residuals:                     399   BIC:                             2681.\n",
      "Df Model:                           1                                         \n",
      "Covariance Type:            nonrobust                                         \n",
      "==============================================================================\n",
      "                 coef    std err          t      P>|t|      [0.025      0.975]\n",
      "------------------------------------------------------------------------------\n",
      "Intercept     -8.7912      1.360     -6.462      0.000     -11.466      -6.117\n",
      "Aluminum       0.0118      0.001     16.304      0.000       0.010       0.013\n",
      "==============================================================================\n",
      "Omnibus:                       37.123   Durbin-Watson:                   0.039\n",
      "Prob(Omnibus):                  0.000   Jarque-Bera (JB):               45.011\n",
      "Skew:                           0.810   Prob(JB):                     1.68e-10\n",
      "Kurtosis:                       3.261   Cond. No.                     7.54e+03\n",
      "==============================================================================\n",
      "\n",
      "Notes:\n",
      "[1] Standard Errors assume that the covariance matrix of the errors is correctly specified.\n",
      "[2] The condition number is large, 7.54e+03. This might indicate that there are\n",
      "strong multicollinearity or other numerical problems.\n"
     ]
    }
   ],
   "source": [
    "# fit a linear model\n",
    "lm = smf.ols(\n",
    "    formula=\"Silver ~ Aluminum\", data=df\n",
    ").fit()\n",
    "\n",
    "print(lm.summary())"
   ]
  },
  {
   "attachments": {},
   "cell_type": "markdown",
   "metadata": {},
   "source": [
    ">*The summary table above shows what we already suspected from Aluminum: it is not a strong predictor of the price of Silver as evidenced by the roughly 40% variability explained by the model.*"
   ]
  },
  {
   "attachments": {},
   "cell_type": "markdown",
   "metadata": {},
   "source": [
    "#### Platinum"
   ]
  },
  {
   "cell_type": "code",
   "execution_count": 10,
   "metadata": {},
   "outputs": [
    {
     "name": "stdout",
     "output_type": "stream",
     "text": [
      "                            OLS Regression Results                            \n",
      "==============================================================================\n",
      "Dep. Variable:                 Silver   R-squared:                       0.695\n",
      "Model:                            OLS   Adj. R-squared:                  0.694\n",
      "Method:                 Least Squares   F-statistic:                     908.4\n",
      "Date:                Sat, 17 Jun 2023   Prob (F-statistic):          7.06e-105\n",
      "Time:                        21:22:50   Log-Likelihood:                -1199.0\n",
      "No. Observations:                 401   AIC:                             2402.\n",
      "Df Residuals:                     399   BIC:                             2410.\n",
      "Df Model:                           1                                         \n",
      "Covariance Type:            nonrobust                                         \n",
      "==============================================================================\n",
      "                 coef    std err          t      P>|t|      [0.025      0.975]\n",
      "------------------------------------------------------------------------------\n",
      "Intercept     -1.7739      0.537     -3.303      0.001      -2.830      -0.718\n",
      "Platinum       0.0166      0.001     30.140      0.000       0.016       0.018\n",
      "==============================================================================\n",
      "Omnibus:                        5.189   Durbin-Watson:                   0.042\n",
      "Prob(Omnibus):                  0.075   Jarque-Bera (JB):                5.391\n",
      "Skew:                           0.188   Prob(JB):                       0.0675\n",
      "Kurtosis:                       3.425   Cond. No.                     2.17e+03\n",
      "==============================================================================\n",
      "\n",
      "Notes:\n",
      "[1] Standard Errors assume that the covariance matrix of the errors is correctly specified.\n",
      "[2] The condition number is large, 2.17e+03. This might indicate that there are\n",
      "strong multicollinearity or other numerical problems.\n"
     ]
    }
   ],
   "source": [
    "# fit the model\n",
    "lm = smf.ols(\n",
    "    formula=\"Silver ~ Platinum\", data=df\n",
    ").fit()\n",
    "\n",
    "print(lm.summary())"
   ]
  },
  {
   "attachments": {},
   "cell_type": "markdown",
   "metadata": {},
   "source": [
    ">*Platinum continues to make a compelling case as a possible variable of interest. The model above indicates a fairly strong relationship, with approximately 70% of the variablility being explained by the price of Platinum.*"
   ]
  },
  {
   "attachments": {},
   "cell_type": "markdown",
   "metadata": {},
   "source": [
    "#### Copper"
   ]
  },
  {
   "cell_type": "code",
   "execution_count": 11,
   "metadata": {},
   "outputs": [
    {
     "name": "stdout",
     "output_type": "stream",
     "text": [
      "                            OLS Regression Results                            \n",
      "==============================================================================\n",
      "Dep. Variable:                 Silver   R-squared:                       0.812\n",
      "Model:                            OLS   Adj. R-squared:                  0.812\n",
      "Method:                 Least Squares   F-statistic:                     1726.\n",
      "Date:                Sat, 17 Jun 2023   Prob (F-statistic):          5.38e-147\n",
      "Time:                        21:24:34   Log-Likelihood:                -1101.7\n",
      "No. Observations:                 401   AIC:                             2207.\n",
      "Df Residuals:                     399   BIC:                             2215.\n",
      "Df Model:                           1                                         \n",
      "Covariance Type:            nonrobust                                         \n",
      "==============================================================================\n",
      "                 coef    std err          t      P>|t|      [0.025      0.975]\n",
      "------------------------------------------------------------------------------\n",
      "Intercept     -1.2568      0.385     -3.262      0.001      -2.014      -0.499\n",
      "Copper         0.0030   7.14e-05     41.546      0.000       0.003       0.003\n",
      "==============================================================================\n",
      "Omnibus:                       66.433   Durbin-Watson:                   0.096\n",
      "Prob(Omnibus):                  0.000   Jarque-Bera (JB):              173.188\n",
      "Skew:                           0.803   Prob(JB):                     2.47e-38\n",
      "Kurtosis:                       5.790   Cond. No.                     1.10e+04\n",
      "==============================================================================\n",
      "\n",
      "Notes:\n",
      "[1] Standard Errors assume that the covariance matrix of the errors is correctly specified.\n",
      "[2] The condition number is large, 1.1e+04. This might indicate that there are\n",
      "strong multicollinearity or other numerical problems.\n"
     ]
    }
   ],
   "source": [
    "# fit the model\n",
    "lm = smf.ols(\n",
    "    formula=\"Silver ~ Copper\", data=df\n",
    ").fit()\n",
    "\n",
    "print(lm.summary())"
   ]
  },
  {
   "attachments": {},
   "cell_type": "markdown",
   "metadata": {},
   "source": [
    ">*Copper is another strong relationship, with roughly 81% of the variablility in the price of Silver being explained. Copper has a very tight confidence interbal on its slope, which is reflected in the plots seen in the previous step. A dollar change in the price of Copper indicates a .003 dollar, or less than a third of a cent, change in the price of Silver.*"
   ]
  },
  {
   "attachments": {},
   "cell_type": "markdown",
   "metadata": {},
   "source": [
    "#### Combo Model"
   ]
  },
  {
   "cell_type": "code",
   "execution_count": 12,
   "metadata": {},
   "outputs": [
    {
     "name": "stdout",
     "output_type": "stream",
     "text": [
      "                            OLS Regression Results                            \n",
      "==============================================================================\n",
      "Dep. Variable:                 Silver   R-squared:                       0.923\n",
      "Model:                            OLS   Adj. R-squared:                  0.923\n",
      "Method:                 Least Squares   F-statistic:                     1588.\n",
      "Date:                Sat, 17 Jun 2023   Prob (F-statistic):          1.15e-220\n",
      "Time:                        21:27:13   Log-Likelihood:                -922.72\n",
      "No. Observations:                 401   AIC:                             1853.\n",
      "Df Residuals:                     397   BIC:                             1869.\n",
      "Df Model:                           3                                         \n",
      "Covariance Type:            nonrobust                                         \n",
      "==============================================================================\n",
      "                 coef    std err          t      P>|t|      [0.025      0.975]\n",
      "------------------------------------------------------------------------------\n",
      "Intercept     -2.7287      0.272    -10.041      0.000      -3.263      -2.194\n",
      "Gold           0.0106      0.000     22.078      0.000       0.010       0.012\n",
      "Platinum       0.0077      0.001     14.156      0.000       0.007       0.009\n",
      "Copper     -6.199e-05      0.000     -0.451      0.652      -0.000       0.000\n",
      "==============================================================================\n",
      "Omnibus:                      191.809   Durbin-Watson:                   0.106\n",
      "Prob(Omnibus):                  0.000   Jarque-Bera (JB):             1307.797\n",
      "Skew:                           1.926   Prob(JB):                    1.04e-284\n",
      "Kurtosis:                      10.965   Cond. No.                     1.25e+04\n",
      "==============================================================================\n",
      "\n",
      "Notes:\n",
      "[1] Standard Errors assume that the covariance matrix of the errors is correctly specified.\n",
      "[2] The condition number is large, 1.25e+04. This might indicate that there are\n",
      "strong multicollinearity or other numerical problems.\n"
     ]
    }
   ],
   "source": [
    "# fit a linear model with Gold, Platinum, and Copper\n",
    "combo_lm = smf.ols(\n",
    "    formula=\"Silver ~ Gold + Platinum + Copper\", data=df\n",
    ").fit()\n",
    "\n",
    "print(combo_lm.summary())"
   ]
  },
  {
   "attachments": {},
   "cell_type": "markdown",
   "metadata": {},
   "source": [
    ">*The combination model has several interesting findings. First, the model does account for roughly 92% of the variance in the price of silver, which is quite strong. The relative importance of each predictor has dropped somewhat, with a dollar change in Copper now accounting for basically zero change in the price of Silver, Platinum moving from 1.6 to less than one cent, and Gold seeing its impact decrease from 1.46 cents to 1.06 cents. The confidence intervals are fairly narrow, which adds strength to the model's outcomes.*"
   ]
  },
  {
   "cell_type": "code",
   "execution_count": null,
   "metadata": {},
   "outputs": [],
   "source": []
  }
 ],
 "metadata": {
  "kernelspec": {
   "display_name": "base",
   "language": "python",
   "name": "python3"
  },
  "language_info": {
   "codemirror_mode": {
    "name": "ipython",
    "version": 3
   },
   "file_extension": ".py",
   "mimetype": "text/x-python",
   "name": "python",
   "nbconvert_exporter": "python",
   "pygments_lexer": "ipython3",
   "version": "3.10.6"
  },
  "orig_nbformat": 4,
  "vscode": {
   "interpreter": {
    "hash": "8252741f7dece6ad0987207e3211c729db738b68c7c87111815d7232d469f1e9"
   }
  }
 },
 "nbformat": 4,
 "nbformat_minor": 2
}
